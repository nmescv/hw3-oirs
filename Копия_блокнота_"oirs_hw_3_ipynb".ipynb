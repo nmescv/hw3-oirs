{
  "nbformat": 4,
  "nbformat_minor": 0,
  "metadata": {
    "colab": {
      "name": "Копия блокнота \"oirs_hw_3.ipynb\"",
      "provenance": [],
      "collapsed_sections": []
    },
    "kernelspec": {
      "name": "python3",
      "display_name": "Python 3"
    },
    "language_info": {
      "name": "python"
    },
    "accelerator": "GPU"
  },
  "cells": [
    {
      "cell_type": "markdown",
      "source": [
        "# Домашнее задание 3. Свёрточные и рекуррентные нейронные сети\n",
        "## Фамилия Имя Группа"
      ],
      "metadata": {
        "id": "7uLSt3vBI0zr"
      }
    },
    {
      "cell_type": "markdown",
      "source": [
        "В зависимости от варианта, для решения задачи используйте следующие наборы данных:\n",
        "\n",
        "<table>\n",
        "    <thead>\n",
        "         <tr>\n",
        "            <th colspan=1>Задача генерации</th>\n",
        "            <th colspan=5>Задача классификации</th>\n",
        "        </tr>\n",
        "        <tr>\n",
        "            <th> </th>\n",
        "            <th>A</th>\n",
        "            <th>B</th>\n",
        "            <th>C</th>\n",
        "            <th>D</th>\n",
        "            <th>E</th>\n",
        "        </tr>\n",
        "    </thead>\n",
        "    <tbody>\n",
        "        <tr>\n",
        "            <td>K</td>\n",
        "            <td>1</td>\n",
        "            <td>2</td>\n",
        "            <td>3</td>\n",
        "            <td>4</td>\n",
        "            <td>5</td>\n",
        "        </tr>\n",
        "        <tr>\n",
        "            <td>L</td>\n",
        "            <td>6</td>\n",
        "            <td>7</td>\n",
        "            <td>8</td>\n",
        "            <td>9</td>\n",
        "            <td>10</td>\n",
        "        </tr>\n",
        "        <tr>\n",
        "            <td>M</td>\n",
        "            <td>11</td>\n",
        "            <td>12</td>\n",
        "            <td>13</td>\n",
        "            <td>14</td>\n",
        "            <td>15</td>\n",
        "        </tr>\n",
        "        <tr>\n",
        "            <td>N</td>\n",
        "            <td>16</td>\n",
        "            <td>17</td>\n",
        "            <td>18</td>\n",
        "            <td>19</td>\n",
        "            <td>20</td>\n",
        "        </tr>\n",
        "        <tr>\n",
        "            <td>O</td>\n",
        "            <td>21</td>\n",
        "            <td>22</td>\n",
        "            <td>23</td>\n",
        "            <td>24</td>\n",
        "            <td>25</td>\n",
        "        </tr>\n",
        "    </tbody>\n",
        "</table>\n",
        "\n",
        "### Наборы данных\n",
        "\n",
        "**Задача классификации картинок**\n",
        "\n",
        "A. [Набор данных \"Fashion MNIST\"](https://pytorch.org/vision/main/generated/torchvision.datasets.FashionMNIST.html) `torchvision.datasets.FashionMNIST train=True и False`\n",
        "\n",
        "B. [Набор данных \"Текстуры\"](https://pytorch.org/vision/main/generated/torchvision.datasets.DTD.html#torchvision.datasets.DTD) `torchvision.datasets.DTD split='train' и 'test'`\n",
        "\n",
        "C. [Набор данных \"Буквы\"](https://pytorch.org/vision/main/generated/torchvision.datasets.EMNIST.html#torchvision.datasets.EMNIST) `torchvision.datasets.EMNIST split=letters train=True и False`\n",
        "\n",
        "D. [Набор данных \"Кошки и собаки\"](https://pytorch.org/vision/main/generated/torchvision.datasets.OxfordIIITPet.html) `torchvision.datasets.OxfordIIITPet split = 'trainval' и 'test'` (объекты разбиты по породам (всего 37 пород), нужно построить бинарный классификатор собак и кошек)\n",
        "\n",
        "E. [Набор данных \"Дорожные знаки\"](https://pytorch.org/vision/main/generated/torchvision.datasets.GTSRB.html) `torchvision.datasets.GTSRB split = 'train' и 'test'`\n",
        "\n",
        "\n",
        "---\n",
        "\n",
        "**Задача генерации текстов**\n",
        "\n",
        "K. [Набор данных \"Евгений Онегин\"]() `onegin.txt`\n",
        "\n",
        "L. [Набор данных \"Война и Мир\"]() `war_and_piece.txt`\n",
        "\n",
        "M. [Набор данных \"Стихи\"]() `stihi.csv`\n",
        "\n",
        "N. [Набор данных \"Сказки\"]() `fairytales.txt`\n",
        "\n",
        "O. [Набор данных \"Новости\"]() `news.txt` или https://github.com/yutkin/Lenta.Ru-News-Dataset/releases"
      ],
      "metadata": {
        "id": "2JxNVonhRMgf"
      }
    },
    {
      "cell_type": "markdown",
      "source": [
        "# 0. Инициализация библиотек"
      ],
      "metadata": {
        "id": "zsqatIg_JBu7"
      }
    },
    {
      "cell_type": "code",
      "source": [
        "import numpy as np\n",
        "import pandas as pd\n",
        "import torch\n"
      ],
      "metadata": {
        "id": "WGZt4ftTJxg4"
      },
      "execution_count": null,
      "outputs": []
    },
    {
      "cell_type": "markdown",
      "source": [
        "Подсказка по разделению пород на два класса"
      ],
      "metadata": {
        "id": "aGY7pMa8_vhU"
      }
    },
    {
      "cell_type": "code",
      "source": [
        "import torchvision\n",
        "\n",
        "# Все классы\n",
        "len(torchvision.datasets.OxfordIIITPet(root='data_train', download=True).classes)\n",
        "\n",
        "# кошки\n",
        "cats = ['Abyssinian', 'Bengal', 'Birman', 'Bombay', 'British Shorthair', 'Egyptian Mau', 'Maine Coon', 'Persian', 'Ragdoll', 'Russian Blue', 'Siamese', 'Sphynx']\n",
        "\n",
        "# собаки\n",
        "dogs = ['American Bulldog', 'American Pit Bull Terrier', 'Basset Hound', 'Beagle', 'Boxer', 'Chihuahua', 'English Cocker Spaniel', 'English Setter', 'German Shorthaired', 'Great Pyrenees',\n",
        "        'Havanese', 'Japanese Chin', 'Keeshond', 'Leonberger', 'Miniature Pinscher', 'Newfoundland', 'Pomeranian', 'Pug', 'Saint Bernard', 'Samoyed', 'Scottish Terrier', 'Shiba Inu',\n",
        "        'Staffordshire Bull Terrier', 'Wheaten Terrier', 'Yorkshire Terrier']\n"
      ],
      "metadata": {
        "id": "P5YHoAIe_voy"
      },
      "execution_count": null,
      "outputs": []
    },
    {
      "cell_type": "markdown",
      "source": [
        "# 1. Свёрточная нейронная сеть для классификации изображений (9 баллов)"
      ],
      "metadata": {
        "id": "5oGgl1uGJBxH"
      }
    },
    {
      "cell_type": "markdown",
      "source": [
        "## 1.1 Загрузка данных, разделение на train и test\n",
        "\n",
        "Загрузите данные при помощи torchvision.datasets. Можете предусмотреть опредлённые транфсофрмации картинки, например, изменение размера до 128 px, кроп по центру в 196 px и преобразование к классу torch.Tensor:\n",
        "\n",
        "```\n",
        "import torchvision\n",
        "\n",
        "\n",
        "transform = torchvision.transforms.Compose([\n",
        "    # resize\n",
        "    torchvision.transforms.Resize(128),\n",
        "    torchvision.transforms.CenterCrop(196),\n",
        "    torchvision.transforms.ToTensor()\n",
        "])\n",
        "```"
      ],
      "metadata": {
        "id": "qV47VXssLKa9"
      }
    },
    {
      "cell_type": "code",
      "source": [
        ""
      ],
      "metadata": {
        "id": "XjIoB9zTKAY2"
      },
      "execution_count": null,
      "outputs": []
    },
    {
      "cell_type": "markdown",
      "source": [
        "## 1.2 Предобработка данных (по необходимости)"
      ],
      "metadata": {
        "id": "MYWcgRrZSWfY"
      }
    },
    {
      "cell_type": "code",
      "source": [
        ""
      ],
      "metadata": {
        "id": "C-LVM7AwJ8si"
      },
      "execution_count": null,
      "outputs": []
    },
    {
      "cell_type": "markdown",
      "source": [
        "## 1.3 Инициализация объекта свёрточной нейронной сети\n",
        "\n",
        "Создайте нейронную сеть с 2-4 свёрточными слоями. В остальном конфигурация сети может быть произвольной. "
      ],
      "metadata": {
        "id": "tP7e_V16J9zV"
      }
    },
    {
      "cell_type": "code",
      "source": [
        ""
      ],
      "metadata": {
        "id": "YcsgF13xhcEa"
      },
      "execution_count": null,
      "outputs": []
    },
    {
      "cell_type": "markdown",
      "source": [
        "## 1.4 Обучение сввёрточной нейронной сети для решения задачи классификации"
      ],
      "metadata": {
        "id": "fH3m86cZKMDU"
      }
    },
    {
      "cell_type": "code",
      "source": [
        ""
      ],
      "metadata": {
        "id": "qW6LwnnQKQ04"
      },
      "execution_count": null,
      "outputs": []
    },
    {
      "cell_type": "markdown",
      "source": [
        "## 1.5 Агументация данных и регулряизации нейросети\n",
        "\n",
        "Попобуйте добавить аугументацию (случайные повороты, увеличение, уменьшение) в данные, а также регуляризацию (Drop out и Batch Norm слои) в модель. Как меняется метрика accuracy на обучающей и тестовой выборке в процессе обучения? Постройте график."
      ],
      "metadata": {
        "id": "ML_5LCyrKSv9"
      }
    },
    {
      "cell_type": "code",
      "source": [
        ""
      ],
      "metadata": {
        "id": "N90xjiR9Dkgb"
      },
      "execution_count": null,
      "outputs": []
    },
    {
      "cell_type": "markdown",
      "source": [
        "## 1.6 Обучение нейросети на данных с аугументацией "
      ],
      "metadata": {
        "id": "aTD5QBT-bsnu"
      }
    },
    {
      "cell_type": "code",
      "source": [
        ""
      ],
      "metadata": {
        "id": "rmlsO4C2bsii"
      },
      "execution_count": null,
      "outputs": []
    },
    {
      "cell_type": "markdown",
      "source": [
        "## 1.7 Выводы\n",
        "\n",
        "Что удалось попробовать? Что получилось, а что — нет? Повлияло ли добавление аугументации на качество?"
      ],
      "metadata": {
        "id": "uydqxWwQKWYQ"
      }
    },
    {
      "cell_type": "markdown",
      "source": [
        "# 2. Рекуррентная нейронная сеть для генерации текстов (9 баллов)"
      ],
      "metadata": {
        "id": "D5G-61iAKh0A"
      }
    },
    {
      "cell_type": "markdown",
      "source": [
        "## 2.1 Загрузка данных\n",
        "\n"
      ],
      "metadata": {
        "id": "BIVlZeMLKwc6"
      }
    },
    {
      "cell_type": "code",
      "source": [
        ""
      ],
      "metadata": {
        "id": "m0CBKtrJL9kt"
      },
      "execution_count": null,
      "outputs": []
    },
    {
      "cell_type": "markdown",
      "source": [
        "## 2.2 Преодбработка/нормализация данных по необходимости\n",
        "\n",
        "Например, можно привести все слова к нижнему регистру"
      ],
      "metadata": {
        "id": "v4TTaWpIKwc9"
      }
    },
    {
      "cell_type": "code",
      "source": [
        ""
      ],
      "metadata": {
        "id": "qtBeZ7VRVfxn"
      },
      "execution_count": null,
      "outputs": []
    },
    {
      "cell_type": "markdown",
      "source": [
        "## 2.3 Инициализация объекта рекуррентной нейронной сети"
      ],
      "metadata": {
        "id": "7xeKpLH3Kwc9"
      }
    },
    {
      "cell_type": "code",
      "source": [
        ""
      ],
      "metadata": {
        "id": "mjsbLlkVSwiL"
      },
      "execution_count": null,
      "outputs": []
    },
    {
      "cell_type": "markdown",
      "source": [
        "## 2.4 Обучение обычной рекуррентной нейронной сети"
      ],
      "metadata": {
        "id": "liOZimvTKwc-"
      }
    },
    {
      "cell_type": "code",
      "source": [
        ""
      ],
      "metadata": {
        "id": "DfTeyL-eS-nZ"
      },
      "execution_count": null,
      "outputs": []
    },
    {
      "cell_type": "markdown",
      "source": [
        "## 2.5 Генерация текстов при помощи обычной рекуррентной сети"
      ],
      "metadata": {
        "id": "2K6Inp-qKwc_"
      }
    },
    {
      "cell_type": "code",
      "source": [
        ""
      ],
      "metadata": {
        "id": "JRt6j0VsKhdW"
      },
      "execution_count": null,
      "outputs": []
    },
    {
      "cell_type": "markdown",
      "source": [
        "## 2.6 Обучение рекуррентной нейронной сети с LSTM-ячейками"
      ],
      "metadata": {
        "id": "PQIhCxJsLRZA"
      }
    },
    {
      "cell_type": "code",
      "source": [
        ""
      ],
      "metadata": {
        "id": "hzGeu7iXLRfl"
      },
      "execution_count": null,
      "outputs": []
    },
    {
      "cell_type": "markdown",
      "source": [
        "## 2.7 Генерация текстов с разной температурой\n",
        "\n",
        "Попробуйте сгенерировать тексты с температурой из списка: `[0.1, 0.2, 0.4, 0.6, 0.8, 1.0]` (см. нотубук с семинара по RNN)"
      ],
      "metadata": {
        "id": "hodfK4dxLWO3"
      }
    },
    {
      "cell_type": "code",
      "source": [
        ""
      ],
      "metadata": {
        "id": "5SsbA8hSLWWJ"
      },
      "execution_count": null,
      "outputs": []
    },
    {
      "cell_type": "markdown",
      "source": [
        "## 2.8 Выводы"
      ],
      "metadata": {
        "id": "wmkAq2N7LdzA"
      }
    },
    {
      "cell_type": "markdown",
      "source": [
        ""
      ],
      "metadata": {
        "id": "KdFzjKnbV4yG"
      }
    }
  ]
}